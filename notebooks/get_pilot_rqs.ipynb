{
 "cells": [
  {
   "cell_type": "code",
   "execution_count": 6,
   "id": "90e73c71-f20d-41b6-916e-899dfaaa601d",
   "metadata": {},
   "outputs": [],
   "source": [
    "import pandas as pd\n",
    "import pickle"
   ]
  },
  {
   "cell_type": "code",
   "execution_count": 7,
   "id": "e465c7cd-be68-4c1c-b5b1-864a51eebd8d",
   "metadata": {},
   "outputs": [],
   "source": [
    "df = pd.read_csv(\"../assays/ay72/results/plink_fmt/ay72_fmat_labeled_updated_known.csv\")"
   ]
  },
  {
   "cell_type": "code",
   "execution_count": 8,
   "id": "e5a7c083-f2c3-4c23-9a44-0468dff57cde",
   "metadata": {},
   "outputs": [
    {
     "data": {
      "text/html": [
       "<div>\n",
       "<style scoped>\n",
       "    .dataframe tbody tr th:only-of-type {\n",
       "        vertical-align: middle;\n",
       "    }\n",
       "\n",
       "    .dataframe tbody tr th {\n",
       "        vertical-align: top;\n",
       "    }\n",
       "\n",
       "    .dataframe thead th {\n",
       "        text-align: right;\n",
       "    }\n",
       "</style>\n",
       "<table border=\"1\" class=\"dataframe\">\n",
       "  <thead>\n",
       "    <tr style=\"text-align: right;\">\n",
       "      <th></th>\n",
       "      <th>RQ1</th>\n",
       "      <th>RQ2</th>\n",
       "      <th>ay72_dist</th>\n",
       "      <th>ay72_mdist</th>\n",
       "      <th>ay72_mibs</th>\n",
       "      <th>ay72_nf_rel</th>\n",
       "      <th>ay72_rel</th>\n",
       "      <th>degree</th>\n",
       "      <th>coef</th>\n",
       "    </tr>\n",
       "  </thead>\n",
       "  <tbody>\n",
       "    <tr>\n",
       "      <th>0</th>\n",
       "      <td>RQ3225471</td>\n",
       "      <td>RQ3097140</td>\n",
       "      <td>68606.235523</td>\n",
       "      <td>0.127753</td>\n",
       "      <td>0.872247</td>\n",
       "      <td>0.113151</td>\n",
       "      <td>0.072067</td>\n",
       "      <td>1</td>\n",
       "      <td>0.50</td>\n",
       "    </tr>\n",
       "    <tr>\n",
       "      <th>1</th>\n",
       "      <td>RQ3231093</td>\n",
       "      <td>RQ3390886</td>\n",
       "      <td>67467.539286</td>\n",
       "      <td>0.125633</td>\n",
       "      <td>0.874367</td>\n",
       "      <td>0.132876</td>\n",
       "      <td>0.085946</td>\n",
       "      <td>1</td>\n",
       "      <td>0.50</td>\n",
       "    </tr>\n",
       "    <tr>\n",
       "      <th>2</th>\n",
       "      <td>RQ3157743</td>\n",
       "      <td>RQ3559200</td>\n",
       "      <td>72782.808341</td>\n",
       "      <td>0.135530</td>\n",
       "      <td>0.864470</td>\n",
       "      <td>0.100081</td>\n",
       "      <td>0.072120</td>\n",
       "      <td>2</td>\n",
       "      <td>0.25</td>\n",
       "    </tr>\n",
       "    <tr>\n",
       "      <th>3</th>\n",
       "      <td>RQ2897668</td>\n",
       "      <td>RQ3004999</td>\n",
       "      <td>59808.356203</td>\n",
       "      <td>0.111370</td>\n",
       "      <td>0.888630</td>\n",
       "      <td>0.155170</td>\n",
       "      <td>0.084026</td>\n",
       "      <td>1</td>\n",
       "      <td>0.50</td>\n",
       "    </tr>\n",
       "    <tr>\n",
       "      <th>4</th>\n",
       "      <td>RQ2759685</td>\n",
       "      <td>RQ3135825</td>\n",
       "      <td>48772.240237</td>\n",
       "      <td>0.090820</td>\n",
       "      <td>0.909180</td>\n",
       "      <td>0.212269</td>\n",
       "      <td>0.143979</td>\n",
       "      <td>1</td>\n",
       "      <td>0.50</td>\n",
       "    </tr>\n",
       "  </tbody>\n",
       "</table>\n",
       "</div>"
      ],
      "text/plain": [
       "         RQ1        RQ2     ay72_dist  ay72_mdist  ay72_mibs  ay72_nf_rel  \\\n",
       "0  RQ3225471  RQ3097140  68606.235523    0.127753   0.872247     0.113151   \n",
       "1  RQ3231093  RQ3390886  67467.539286    0.125633   0.874367     0.132876   \n",
       "2  RQ3157743  RQ3559200  72782.808341    0.135530   0.864470     0.100081   \n",
       "3  RQ2897668  RQ3004999  59808.356203    0.111370   0.888630     0.155170   \n",
       "4  RQ2759685  RQ3135825  48772.240237    0.090820   0.909180     0.212269   \n",
       "\n",
       "   ay72_rel  degree  coef  \n",
       "0  0.072067       1  0.50  \n",
       "1  0.085946       1  0.50  \n",
       "2  0.072120       2  0.25  \n",
       "3  0.084026       1  0.50  \n",
       "4  0.143979       1  0.50  "
      ]
     },
     "execution_count": 8,
     "metadata": {},
     "output_type": "execute_result"
    }
   ],
   "source": [
    "df.head()"
   ]
  },
  {
   "cell_type": "code",
   "execution_count": 9,
   "id": "4609b1a0-d6fc-42bb-8e84-2aa3db7d589b",
   "metadata": {},
   "outputs": [],
   "source": [
    "df_rqs = df[['RQ1', 'RQ2']]"
   ]
  },
  {
   "cell_type": "code",
   "execution_count": 10,
   "id": "5246bbfb-8542-4716-9eea-bd6c959609eb",
   "metadata": {},
   "outputs": [],
   "source": [
    "df_top1 = df_rqs.groupby('RQ1').count().sort_values('RQ2', ascending=False)\n",
    "top_rqs1 = pd.Series(df_top1.head().index[0:3])"
   ]
  },
  {
   "cell_type": "code",
   "execution_count": 11,
   "id": "7fee556e-f106-4fe4-91a4-bc40477841d8",
   "metadata": {},
   "outputs": [
    {
     "name": "stdout",
     "output_type": "stream",
     "text": [
      "\n",
      "RQ2814965:\n",
      "-------\n",
      "degree\n",
      "1     3\n",
      "2     5\n",
      "3    14\n",
      "dtype: int64\n",
      "\n",
      "RQ3022197:\n",
      "-------\n",
      "degree\n",
      "1    4\n",
      "2    4\n",
      "3    6\n",
      "dtype: int64\n",
      "\n",
      "RQ3252048:\n",
      "-------\n",
      "degree\n",
      "1    2\n",
      "2    4\n",
      "3    5\n",
      "dtype: int64\n"
     ]
    }
   ],
   "source": [
    "for i in top_rqs1:\n",
    "    rels = df[df['RQ1'] == i]\n",
    "    print('\\n'+i+':')\n",
    "    print('-------')\n",
    "    print(rels.groupby('degree').size())"
   ]
  },
  {
   "cell_type": "code",
   "execution_count": 12,
   "id": "11ff1908-dce2-4236-a795-093534194ddc",
   "metadata": {},
   "outputs": [],
   "source": [
    "df_top2 = df_rqs.groupby('RQ1').count().sort_values('RQ2', ascending=False)\n",
    "top_rqs2 = pd.Series(df_top2.head().index[0:3])"
   ]
  },
  {
   "cell_type": "code",
   "execution_count": 13,
   "id": "9a606787-e007-4904-8208-47b3f74e6074",
   "metadata": {},
   "outputs": [
    {
     "name": "stdout",
     "output_type": "stream",
     "text": [
      "\n",
      "RQ2814965:\n",
      "-------\n",
      "degree\n",
      "2    3\n",
      "3    3\n",
      "dtype: int64\n",
      "\n",
      "RQ3022197:\n",
      "-------\n",
      "degree\n",
      "3    1\n",
      "dtype: int64\n",
      "\n",
      "RQ3252048:\n",
      "-------\n",
      "degree\n",
      "2    4\n",
      "3    4\n",
      "dtype: int64\n"
     ]
    }
   ],
   "source": [
    "for i in top_rqs2:\n",
    "    rels = df[df['RQ2'] == i]\n",
    "    print('\\n'+i+':')\n",
    "    print('-------')\n",
    "    print(rels.groupby('degree').size())"
   ]
  }
 ],
 "metadata": {
  "kernelspec": {
   "display_name": "Python 3 (ipykernel)",
   "language": "python",
   "name": "python3"
  },
  "language_info": {
   "codemirror_mode": {
    "name": "ipython",
    "version": 3
   },
   "file_extension": ".py",
   "mimetype": "text/x-python",
   "name": "python",
   "nbconvert_exporter": "python",
   "pygments_lexer": "ipython3",
   "version": "3.9.13"
  }
 },
 "nbformat": 4,
 "nbformat_minor": 5
}
