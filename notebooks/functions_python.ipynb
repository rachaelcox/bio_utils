{
 "cells": [
  {
   "cell_type": "code",
   "execution_count": null,
   "id": "849daf5f",
   "metadata": {},
   "outputs": [],
   "source": [
    "from os.path import join\n",
    "import pandas as pd\n",
    "from pandas_plink import read_rel"
   ]
  },
  {
   "cell_type": "code",
   "execution_count": null,
   "id": "ee2262a6",
   "metadata": {},
   "outputs": [],
   "source": [
    "def read_data(data_dir, infile, id_file):\n",
    "    print(\"Infiles:\")\n",
    "    filepath = join(data_dir, infile)\n",
    "    print(filepath)\n",
    "    id_filepath = join(data_dir, id_file)\n",
    "    print(id_filepath)\n",
    "    res = read_rel(filepath, id_filepath)\n",
    "    return(res)"
   ]
  },
  {
   "cell_type": "code",
   "execution_count": null,
   "id": "ffa89c6e",
   "metadata": {},
   "outputs": [],
   "source": [
    "def get_cols(data_dir, id_file):\n",
    "    id_filepath = join(data_dir, id_file)\n",
    "    cols = []\n",
    "    with open(id_filepath, 'r') as f:\n",
    "        for line in f:\n",
    "            indv = line.strip().split('\\t')[0]\n",
    "            cols.append(indv)\n",
    "    # print(\"# individuals = {}\".format(len(cols)))\n",
    "    return(cols)"
   ]
  },
  {
   "cell_type": "code",
   "execution_count": null,
   "id": "1231018d",
   "metadata": {},
   "outputs": [],
   "source": [
    "def format_data(array):\n",
    "    # first reformat strategy\n",
    "#     res_df = pd.DataFrame(array, columns = cols)\n",
    "#     res_df.insert(0, 'ID1', cols)\n",
    "#     res_df = pd.melt(res_df, id_vars = ['ID1'], value_vars = cols)\n",
    "#     res_df.rename(columns={\"variable\":\"ID2\", \"value\":\"rel\"}, inplace=True)\n",
    "#     res_df['exp'] = exp_name\n",
    "    \n",
    "    # pythonic re-format w/ david\n",
    "    df = array.to_pandas()\n",
    "    df.index.name = 'ID1'\n",
    "    df.reset_index(inplace=True)\n",
    "    long_df = pd.melt(df, id_vars = ['ID1'])\n",
    "    long_df.rename(columns={\"sample_1\":\"ID2\", \"value\":\"rel\"}, inplace=True)\n",
    "    \n",
    "    return(long_df)"
   ]
  },
  {
   "cell_type": "code",
   "execution_count": null,
   "id": "2173a36d",
   "metadata": {},
   "outputs": [],
   "source": [
    "def write_res(long_df, out_dir, outfile_prefix):\n",
    "    # define outfile names\n",
    "    tri_out = outfile_prefix + \"_rel_triangle.csv\"\n",
    "    diag_out = outfile_prefix + \"_rel_diagonal.csv\"\n",
    "    # extract info from long df\n",
    "    tri_df = long_df[long_df.ID1 < long_df.ID2]\n",
    "    diag_df = long_df[long_df.ID1 == long_df.ID2]\n",
    "    # write to csv\n",
    "    print(\"Outfiles:\")\n",
    "    print(join(out_dir, tri_out))\n",
    "    tri_df.to_csv(join(out_dir, tri_out), index=False)\n",
    "    print(join(out_dir, diag_out))\n",
    "    diag_df.to_csv(join(out_dir, diag_out), index=False)"
   ]
  },
  {
   "cell_type": "code",
   "execution_count": null,
   "id": "afccc9fa",
   "metadata": {},
   "outputs": [],
   "source": [
    "def subset_kin_data(array, kin_file):\n",
    "    \n",
    "    \n",
    "    \n",
    "    df = subset_array.to_pandas()\n",
    "    df.index.name = 'ID1'\n",
    "    df.reset_index(inplace=True)\n",
    "    long_df = pd.melt(df, id_vars = ['ID1'])\n",
    "    long_df.rename(columns={\"sample_1\":\"ID2\", \"value\":\"rel\"}, inplace=True)\n",
    "    \n",
    "    return(long_df)"
   ]
  }
 ],
 "metadata": {
  "kernelspec": {
   "display_name": "Python 3 (ipykernel)",
   "language": "python",
   "name": "python3"
  },
  "language_info": {
   "codemirror_mode": {
    "name": "ipython",
    "version": 3
   },
   "file_extension": ".py",
   "mimetype": "text/x-python",
   "name": "python",
   "nbconvert_exporter": "python",
   "pygments_lexer": "ipython3",
   "version": "3.9.13"
  }
 },
 "nbformat": 4,
 "nbformat_minor": 5
}
