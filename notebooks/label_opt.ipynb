{
 "cells": [
  {
   "cell_type": "code",
   "execution_count": 1,
   "id": "74989601-af48-401d-af31-e23aaae20517",
   "metadata": {},
   "outputs": [],
   "source": [
    "import pandas as pd\n",
    "import time\n",
    "from tqdm import tqdm\n",
    "import os"
   ]
  },
  {
   "cell_type": "code",
   "execution_count": 3,
   "id": "9c6dd7ab-a98c-48f6-b9c5-123d35e6c282",
   "metadata": {},
   "outputs": [],
   "source": [
    "assay = 'all'\n",
    "rel_file = f'../maps/{assay}_related_pairs_updated.csv'\n",
    "fmat_file = f'../assays/{assay}/results/plink_fmt/{assay}_rel_triangle.csv'\n",
    "out = f'../assays/{assay}/results/plink_fmt/{assay}_fmat_labeled_updated_relonly.csv'"
   ]
  },
  {
   "cell_type": "code",
   "execution_count": 21,
   "id": "9b4722ee-2830-41a2-a1dc-5080a961bb85",
   "metadata": {},
   "outputs": [],
   "source": [
    "def read_csv_pgbar(csv_path, chunksize, dtype=object):\n",
    " \n",
    "    rows = sum(1 for _ in open(csv_path, 'r')) - 1 # minus the header\n",
    "    chunk_list = []\n",
    " \n",
    "    with tqdm(total=rows, desc='Rows read: ') as bar:\n",
    "        for chunk in pd.read_csv(csv_path, chunksize=chunksize,\n",
    "                                 dtype=dtype):\n",
    "            chunk_list.append(chunk)\n",
    "            bar.update(len(chunk))\n",
    " \n",
    "    df = pd.concat((f for f in chunk_list), axis=0)\n",
    "    print('Done!')\n",
    " \n",
    "    return df"
   ]
  },
  {
   "cell_type": "code",
   "execution_count": 22,
   "id": "966a0fcb-153a-4b3b-aea6-175081857677",
   "metadata": {},
   "outputs": [],
   "source": [
    "def match_degree(x, my_dict):\n",
    "    return my_dict.get(x, -1)"
   ]
  },
  {
   "cell_type": "code",
   "execution_count": 23,
   "id": "36211f7f-d273-4d20-8b3b-53bde5781ce3",
   "metadata": {},
   "outputs": [],
   "source": [
    "df = pd.read_csv(rel_file)\n",
    "df[\"pair\"] = [frozenset({i, j}) for i, j in zip(df[\"FORMATTED_REQID\"], df[\"FORMATTED_PROBAND_REQUISITION_ID\"])]\n",
    "\n",
    "degree_dict = dict()\n",
    "issues = []\n",
    "dupes = []\n",
    "for i in range(len(df)):\n",
    "    key = df[\"pair\"][i]\n",
    "    if key not in degree_dict.keys():\n",
    "        degree_dict.update({key: df[\"degree\"][i]})\n",
    "    else:\n",
    "        if df[\"degree\"][i] != degree_dict[key]:\n",
    "            issues.append(key)\n",
    "            degree_dict.pop(key)\n",
    "        if key not in dupes:\n",
    "            dupes.append(key)"
   ]
  },
  {
   "cell_type": "code",
   "execution_count": 24,
   "id": "769330bc-12dd-48b7-8aec-d88635ed0884",
   "metadata": {
    "tags": []
   },
   "outputs": [],
   "source": [
    "cxf_dict = {-1: 0, 0: 1., 1: 0.5, 2: 0.25, 3: 0.125}"
   ]
  },
  {
   "cell_type": "code",
   "execution_count": 25,
   "id": "18d07d77-5300-48f4-ae60-648c007987c5",
   "metadata": {},
   "outputs": [
    {
     "name": "stdout",
     "output_type": "stream",
     "text": [
      "Reading in features ...\n"
     ]
    },
    {
     "name": "stderr",
     "output_type": "stream",
     "text": [
      "Rows read: 100%|█████████████████████████████| 2767419606/2767419606 [48:11<00:00, 956999.60it/s]\n"
     ]
    },
    {
     "name": "stdout",
     "output_type": "stream",
     "text": [
      "Done!\n",
      "Labeling features ...\n"
     ]
    },
    {
     "ename": "KeyError",
     "evalue": "'RQ1'",
     "output_type": "error",
     "traceback": [
      "\u001b[0;31m---------------------------------------------------------------------------\u001b[0m",
      "\u001b[0;31mKeyError\u001b[0m                                  Traceback (most recent call last)",
      "File \u001b[0;32m~/miniconda3/envs/test_env/lib/python3.9/site-packages/pandas/core/indexes/base.py:3621\u001b[0m, in \u001b[0;36mIndex.get_loc\u001b[0;34m(self, key, method, tolerance)\u001b[0m\n\u001b[1;32m   3620\u001b[0m \u001b[38;5;28;01mtry\u001b[39;00m:\n\u001b[0;32m-> 3621\u001b[0m     \u001b[38;5;28;01mreturn\u001b[39;00m \u001b[38;5;28;43mself\u001b[39;49m\u001b[38;5;241;43m.\u001b[39;49m\u001b[43m_engine\u001b[49m\u001b[38;5;241;43m.\u001b[39;49m\u001b[43mget_loc\u001b[49m\u001b[43m(\u001b[49m\u001b[43mcasted_key\u001b[49m\u001b[43m)\u001b[49m\n\u001b[1;32m   3622\u001b[0m \u001b[38;5;28;01mexcept\u001b[39;00m \u001b[38;5;167;01mKeyError\u001b[39;00m \u001b[38;5;28;01mas\u001b[39;00m err:\n",
      "File \u001b[0;32m~/miniconda3/envs/test_env/lib/python3.9/site-packages/pandas/_libs/index.pyx:136\u001b[0m, in \u001b[0;36mpandas._libs.index.IndexEngine.get_loc\u001b[0;34m()\u001b[0m\n",
      "File \u001b[0;32m~/miniconda3/envs/test_env/lib/python3.9/site-packages/pandas/_libs/index.pyx:163\u001b[0m, in \u001b[0;36mpandas._libs.index.IndexEngine.get_loc\u001b[0;34m()\u001b[0m\n",
      "File \u001b[0;32mpandas/_libs/hashtable_class_helper.pxi:5198\u001b[0m, in \u001b[0;36mpandas._libs.hashtable.PyObjectHashTable.get_item\u001b[0;34m()\u001b[0m\n",
      "File \u001b[0;32mpandas/_libs/hashtable_class_helper.pxi:5206\u001b[0m, in \u001b[0;36mpandas._libs.hashtable.PyObjectHashTable.get_item\u001b[0;34m()\u001b[0m\n",
      "\u001b[0;31mKeyError\u001b[0m: 'RQ1'",
      "\nThe above exception was the direct cause of the following exception:\n",
      "\u001b[0;31mKeyError\u001b[0m                                  Traceback (most recent call last)",
      "Input \u001b[0;32mIn [25]\u001b[0m, in \u001b[0;36m<cell line: 8>\u001b[0;34m()\u001b[0m\n\u001b[1;32m      4\u001b[0m fmat \u001b[38;5;241m=\u001b[39m read_csv_pgbar(fmat_file, chunksize\u001b[38;5;241m=\u001b[39m\u001b[38;5;241m10\u001b[39m\u001b[38;5;241m*\u001b[39m\u001b[38;5;241m*\u001b[39m\u001b[38;5;241m6\u001b[39m)\n\u001b[1;32m      6\u001b[0m \u001b[38;5;28mprint\u001b[39m(\u001b[38;5;124m\"\u001b[39m\u001b[38;5;124mLabeling features ...\u001b[39m\u001b[38;5;124m\"\u001b[39m)\n\u001b[0;32m----> 8\u001b[0m fmat[\u001b[38;5;124m\"\u001b[39m\u001b[38;5;124mdegree\u001b[39m\u001b[38;5;124m\"\u001b[39m] \u001b[38;5;241m=\u001b[39m [match_degree(\u001b[38;5;28mfrozenset\u001b[39m({i, j}), degree_dict) \u001b[38;5;28;01mfor\u001b[39;00m i, j \u001b[38;5;129;01min\u001b[39;00m \u001b[38;5;28mzip\u001b[39m(\u001b[43mfmat\u001b[49m\u001b[43m[\u001b[49m\u001b[38;5;124;43m\"\u001b[39;49m\u001b[38;5;124;43mRQ1\u001b[39;49m\u001b[38;5;124;43m\"\u001b[39;49m\u001b[43m]\u001b[49m, fmat[\u001b[38;5;124m\"\u001b[39m\u001b[38;5;124mRQ2\u001b[39m\u001b[38;5;124m\"\u001b[39m])]\n\u001b[1;32m      9\u001b[0m \u001b[38;5;28mprint\u001b[39m(\u001b[38;5;124mf\u001b[39m\u001b[38;5;124m\"\u001b[39m\u001b[38;5;124mDegrees labeled in \u001b[39m\u001b[38;5;132;01m{\u001b[39;00mtime\u001b[38;5;241m.\u001b[39mtime() \u001b[38;5;241m-\u001b[39m t0\u001b[38;5;132;01m}\u001b[39;00m\u001b[38;5;124m seconds\u001b[39m\u001b[38;5;124m\"\u001b[39m)\n\u001b[1;32m     11\u001b[0m fmat[\u001b[38;5;124m\"\u001b[39m\u001b[38;5;124mcoef\u001b[39m\u001b[38;5;124m\"\u001b[39m] \u001b[38;5;241m=\u001b[39m [cxf_dict[i] \u001b[38;5;28;01mfor\u001b[39;00m i \u001b[38;5;129;01min\u001b[39;00m fmat[\u001b[38;5;124m\"\u001b[39m\u001b[38;5;124mdegree\u001b[39m\u001b[38;5;124m\"\u001b[39m]]\n",
      "File \u001b[0;32m~/miniconda3/envs/test_env/lib/python3.9/site-packages/pandas/core/frame.py:3505\u001b[0m, in \u001b[0;36mDataFrame.__getitem__\u001b[0;34m(self, key)\u001b[0m\n\u001b[1;32m   3503\u001b[0m \u001b[38;5;28;01mif\u001b[39;00m \u001b[38;5;28mself\u001b[39m\u001b[38;5;241m.\u001b[39mcolumns\u001b[38;5;241m.\u001b[39mnlevels \u001b[38;5;241m>\u001b[39m \u001b[38;5;241m1\u001b[39m:\n\u001b[1;32m   3504\u001b[0m     \u001b[38;5;28;01mreturn\u001b[39;00m \u001b[38;5;28mself\u001b[39m\u001b[38;5;241m.\u001b[39m_getitem_multilevel(key)\n\u001b[0;32m-> 3505\u001b[0m indexer \u001b[38;5;241m=\u001b[39m \u001b[38;5;28;43mself\u001b[39;49m\u001b[38;5;241;43m.\u001b[39;49m\u001b[43mcolumns\u001b[49m\u001b[38;5;241;43m.\u001b[39;49m\u001b[43mget_loc\u001b[49m\u001b[43m(\u001b[49m\u001b[43mkey\u001b[49m\u001b[43m)\u001b[49m\n\u001b[1;32m   3506\u001b[0m \u001b[38;5;28;01mif\u001b[39;00m is_integer(indexer):\n\u001b[1;32m   3507\u001b[0m     indexer \u001b[38;5;241m=\u001b[39m [indexer]\n",
      "File \u001b[0;32m~/miniconda3/envs/test_env/lib/python3.9/site-packages/pandas/core/indexes/base.py:3623\u001b[0m, in \u001b[0;36mIndex.get_loc\u001b[0;34m(self, key, method, tolerance)\u001b[0m\n\u001b[1;32m   3621\u001b[0m     \u001b[38;5;28;01mreturn\u001b[39;00m \u001b[38;5;28mself\u001b[39m\u001b[38;5;241m.\u001b[39m_engine\u001b[38;5;241m.\u001b[39mget_loc(casted_key)\n\u001b[1;32m   3622\u001b[0m \u001b[38;5;28;01mexcept\u001b[39;00m \u001b[38;5;167;01mKeyError\u001b[39;00m \u001b[38;5;28;01mas\u001b[39;00m err:\n\u001b[0;32m-> 3623\u001b[0m     \u001b[38;5;28;01mraise\u001b[39;00m \u001b[38;5;167;01mKeyError\u001b[39;00m(key) \u001b[38;5;28;01mfrom\u001b[39;00m \u001b[38;5;21;01merr\u001b[39;00m\n\u001b[1;32m   3624\u001b[0m \u001b[38;5;28;01mexcept\u001b[39;00m \u001b[38;5;167;01mTypeError\u001b[39;00m:\n\u001b[1;32m   3625\u001b[0m     \u001b[38;5;66;03m# If we have a listlike key, _check_indexing_error will raise\u001b[39;00m\n\u001b[1;32m   3626\u001b[0m     \u001b[38;5;66;03m#  InvalidIndexError. Otherwise we fall through and re-raise\u001b[39;00m\n\u001b[1;32m   3627\u001b[0m     \u001b[38;5;66;03m#  the TypeError.\u001b[39;00m\n\u001b[1;32m   3628\u001b[0m     \u001b[38;5;28mself\u001b[39m\u001b[38;5;241m.\u001b[39m_check_indexing_error(key)\n",
      "\u001b[0;31mKeyError\u001b[0m: 'RQ1'"
     ]
    }
   ],
   "source": [
    "t0 = time.time()\n",
    "\n",
    "print(\"Reading in features ...\")\n",
    "fmat = read_csv_pgbar(fmat_file, chunksize=10**6)\n",
    "\n",
    "print(\"Labeling features ...\")\n",
    "\n",
    "t1 = time.time()\n",
    "\n",
    "fmat[\"degree\"] = [match_degree(frozenset({i, j}), degree_dict) for i, j in zip(fmat[\"RQ1\"], fmat[\"RQ2\"])]\n",
    "fmat[\"coef\"] = [cxf_dict[i] for i in fmat[\"degree\"]]\n",
    "\n",
    "print(f\"Features labeled in {time.time() - t1} seconds\")\n",
    "\n",
    "print(f\"Total time to completion: {time.time() - t0} seconds\")"
   ]
  },
  {
   "cell_type": "code",
   "execution_count": null,
   "id": "fd1552de-cc88-407a-97ca-2b7d030d2601",
   "metadata": {},
   "outputs": [],
   "source": [
    "fmat.to_csv(out, index=False, chunksize=10**6)"
   ]
  },
  {
   "cell_type": "code",
   "execution_count": null,
   "id": "053e3337-b518-438e-941c-0d848c467e62",
   "metadata": {},
   "outputs": [],
   "source": [
    "known = fmat[fmat['degree'] >= 0]\n",
    "known.head()"
   ]
  },
  {
   "cell_type": "code",
   "execution_count": null,
   "id": "b532504f-dfb7-4343-a1de-70bc679afb92",
   "metadata": {},
   "outputs": [],
   "source": [
    "len(known)"
   ]
  },
  {
   "cell_type": "code",
   "execution_count": 26,
   "id": "b8525dde-816d-4fb3-8e4b-497f6f8a07ea",
   "metadata": {},
   "outputs": [],
   "source": [
    "del fmat"
   ]
  },
  {
   "cell_type": "code",
   "execution_count": null,
   "id": "20daebc2-ab3a-47d3-9368-d8f3e4173d2d",
   "metadata": {},
   "outputs": [],
   "source": []
  }
 ],
 "metadata": {
  "kernelspec": {
   "display_name": "Python 3 (ipykernel)",
   "language": "python",
   "name": "python3"
  },
  "language_info": {
   "codemirror_mode": {
    "name": "ipython",
    "version": 3
   },
   "file_extension": ".py",
   "mimetype": "text/x-python",
   "name": "python",
   "nbconvert_exporter": "python",
   "pygments_lexer": "ipython3",
   "version": "3.9.13"
  }
 },
 "nbformat": 4,
 "nbformat_minor": 5
}
