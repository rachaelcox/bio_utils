{
 "cells": [
  {
   "cell_type": "code",
   "execution_count": 17,
   "id": "804e422e-5fba-4b46-9fd3-bc3449879ad0",
   "metadata": {},
   "outputs": [],
   "source": [
    "import pandas as pd\n",
    "import pickle"
   ]
  },
  {
   "cell_type": "code",
   "execution_count": 18,
   "id": "dc74ef1f-edcd-4ce2-ae30-d4674f4b1f03",
   "metadata": {},
   "outputs": [],
   "source": [
    "infile = '../assays/ay49/results/plink_fmt/ay49_fmat_labeled_updated.csv'\n",
    "outfile = '../assays/ay49/results/plink_fmt/ay49_fmat_labeled_updated.pkl'"
   ]
  },
  {
   "cell_type": "code",
   "execution_count": 19,
   "id": "f0a528c0-4f9f-4889-87c2-460f0dadc652",
   "metadata": {},
   "outputs": [],
   "source": [
    "df = pd.read_csv(infile)"
   ]
  },
  {
   "cell_type": "code",
   "execution_count": 20,
   "id": "aea80dfb-b7d4-4676-9e2e-e0b51b6a4b1e",
   "metadata": {},
   "outputs": [],
   "source": [
    "df.to_pickle(outfile)"
   ]
  },
  {
   "cell_type": "code",
   "execution_count": 21,
   "id": "cc8ac909-e379-4040-9d52-0d10ef2992b7",
   "metadata": {},
   "outputs": [],
   "source": [
    "del df"
   ]
  }
 ],
 "metadata": {
  "kernelspec": {
   "display_name": "Python 3 (ipykernel)",
   "language": "python",
   "name": "python3"
  },
  "language_info": {
   "codemirror_mode": {
    "name": "ipython",
    "version": 3
   },
   "file_extension": ".py",
   "mimetype": "text/x-python",
   "name": "python",
   "nbconvert_exporter": "python",
   "pygments_lexer": "ipython3",
   "version": "3.9.13"
  }
 },
 "nbformat": 4,
 "nbformat_minor": 5
}
