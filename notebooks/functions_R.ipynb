{
 "cells": [
  {
   "cell_type": "markdown",
   "id": "5b31962f",
   "metadata": {},
   "source": [
    "## Data Functions"
   ]
  },
  {
   "cell_type": "code",
   "execution_count": null,
   "id": "fb289163",
   "metadata": {},
   "outputs": [],
   "source": [
    "kinship_file = \"/locus/home/ddynerman/fine-mapping/data/ukbb/ukb_rel_a65528_s488171.dat\""
   ]
  },
  {
   "cell_type": "code",
   "execution_count": null,
   "id": "1ece1863",
   "metadata": {},
   "outputs": [],
   "source": [
    "library(readr)\n",
    "library(dplyr)\n",
    "library(tidyr)\n",
    "library(purrr)\n",
    "library(ggplot2)\n",
    "library(data.table)"
   ]
  },
  {
   "cell_type": "code",
   "execution_count": null,
   "id": "e6da5a88",
   "metadata": {},
   "outputs": [],
   "source": [
    "make_kin_df <- function(kinship_file){\n",
    "    \n",
    "    dt_king <- data.table::fread(kinship_file, sep = \" \")\n",
    "    dt_king <- dt_king %>%\n",
    "        mutate(pairs = paste(ID1, ID2, \" \")) %>%\n",
    "        mutate(relationship = case_when(Kinship < 1/(2^(9/2)) ~ \"Unrelated\",\n",
    "                                between(Kinship, 1/(2^(9/2)), 1/(2^(7/2))) ~ \"3rd Degree\",\n",
    "                                between(Kinship, 1/(2^(7/2)), 1/(2^(5/2))) ~ \"2nd Degree\",\n",
    "                                between(Kinship, 1/(2^(5/2)), 1/(2^(3/2))) ~ \"1st Degree\",\n",
    "                                 Kinship > 1/(2^(3/2)) ~ \"Monozygotic twin\"))\n",
    "    return(dt_king)\n",
    "}"
   ]
  },
  {
   "cell_type": "code",
   "execution_count": null,
   "id": "510f4af8",
   "metadata": {},
   "outputs": [],
   "source": [
    "subset_related <- function(triangle_file, kin_df){\n",
    "    \n",
    "    tri_dt <- data.table::fread(triangle_file)\n",
    "    rel_pairs <- tri_dt %>% \n",
    "        mutate(pairs1 = paste(ID1, ID2, \" \")) %>% \n",
    "        mutate(pairs2 = paste(ID2, ID1, \" \"))\n",
    "\n",
    "    matching_pairs1 <- rel_pairs %>%\n",
    "        filter(pairs1 %in% kin_df$pairs)\n",
    "    head(matching_pairs1)\n",
    "\n",
    "    matching_pairs2 <- rel_pairs %>%\n",
    "        filter(pairs2 %in% kin_df$pairs)\n",
    "    head(matching_pairs2)\n",
    "\n",
    "    pairs1 <- select(matching_pairs1, pairs1, rel) %>% \n",
    "        rename(pairs = pairs1)\n",
    "    pairs2 <- select(matching_pairs2, pairs2, rel) %>% \n",
    "        rename(pairs = pairs2)\n",
    "    \n",
    "    related_df <- rbind(pairs1, pairs2) %>%\n",
    "        left_join(kin_df)\n",
    "    \n",
    "    return(related_df)\n",
    "    \n",
    "}\n",
    "\n"
   ]
  },
  {
   "cell_type": "code",
   "execution_count": null,
   "id": "8a5a0ad6",
   "metadata": {},
   "outputs": [],
   "source": [
    "## rewrite:\n",
    "# iterate over all pairs you want to keep first\n",
    "# look up in big matrix by [i,j]\n",
    "# i think this will actually make more sense in python\n",
    "subset_related <- function(rel_file, kin_df){\n",
    "    \n",
    "    tri_dt <- data.table::fread(triangle_file)\n",
    "    rel_pairs <- tri_dt %>% \n",
    "        mutate(pairs1 = paste(ID1, ID2, \" \")) %>% \n",
    "        mutate(pairs2 = paste(ID2, ID1, \" \"))\n",
    "\n",
    "    matching_pairs1 <- rel_pairs %>%\n",
    "        filter(pairs1 %in% kin_df$pairs)\n",
    "    head(matching_pairs1)\n",
    "\n",
    "    matching_pairs2 <- rel_pairs %>%\n",
    "        filter(pairs2 %in% kin_df$pairs)\n",
    "    head(matching_pairs2)\n",
    "\n",
    "    pairs1 <- select(matching_pairs1, pairs1, rel) %>% \n",
    "        rename(pairs = pairs1)\n",
    "    pairs2 <- select(matching_pairs2, pairs2, rel) %>% \n",
    "        rename(pairs = pairs2)\n",
    "    \n",
    "    related_df <- rbind(pairs1, pairs2) %>%\n",
    "        left_join(kin_df)\n",
    "    \n",
    "    return(related_df)\n",
    "    \n",
    "}"
   ]
  },
  {
   "cell_type": "code",
   "execution_count": null,
   "id": "edc8de2f",
   "metadata": {},
   "outputs": [],
   "source": [
    "subset_unrelated <- function(triangle_file, kin_df){\n",
    "    \n",
    "    `%!in%` <- Negate(`%in%`)\n",
    "    \n",
    "    tri_dt <- data.table::fread(triangle_file)\n",
    "    rel_pairs <- tri_dt %>% \n",
    "        mutate(pairs1 = paste(ID1, ID2, \" \")) %>% \n",
    "        mutate(pairs2 = paste(ID2, ID1, \" \"))\n",
    "\n",
    "    unrelated_pairs <- rel_pairs %>%\n",
    "        filter(pairs1 %!in% king_pairs$pairs & pairs2 %!in% king_pairs$pairs)\n",
    "    \n",
    "    unrelated_df <- unrelated_pairs %>%\n",
    "    select(ID1, ID2, rel) %>%\n",
    "    mutate(Kinship = 0) %>%\n",
    "    mutate(relationship = \"Unrelated\")\n",
    "    \n",
    "    return(unrelated_df)\n",
    "    \n",
    "}"
   ]
  },
  {
   "cell_type": "code",
   "execution_count": null,
   "id": "bf08fe04",
   "metadata": {},
   "outputs": [],
   "source": [
    "rel_predict <- function(df){\n",
    "    \n",
    "    df_out <- df %>%\n",
    "        mutate(rel_predict = case_when(rel/2 < 1/(2^(9/2)) ~ \"Unrelated\",\n",
    "                                       between(rel/2, 1/(2^(9/2)), 1/(2^(7/2))) ~ \"3rd Degree\",\n",
    "                                       between(rel/2, 1/(2^(7/2)), 1/(2^(5/2))) ~ \"2nd Degree\",\n",
    "                                       between(rel/2, 1/(2^(5/2)), 1/(2^(3/2))) ~ \"1st Degree\",\n",
    "                                       rel/2 > 1/(2^(3/2)) ~ \"Monozygotic twin\"))\n",
    "    \n",
    "    return(df_out)\n",
    "}"
   ]
  },
  {
   "cell_type": "code",
   "execution_count": null,
   "id": "c59e946a",
   "metadata": {},
   "outputs": [],
   "source": [
    "calc_metrics <- function(df, level){\n",
    "    \n",
    "    true_positive <- df %>% \n",
    "    filter(relationship == level & rel_predict == level) %>%\n",
    "    tally()\n",
    "\n",
    "    false_positive <- df %>% \n",
    "        filter(relationship != level & rel_predict == level) %>%\n",
    "        tally()\n",
    "\n",
    "    true_negative <- df %>% \n",
    "        filter(relationship != level & rel_predict != level) %>%\n",
    "        tally()\n",
    "\n",
    "    false_negative <- df %>% \n",
    "        filter(relationship == level & rel_predict != level) %>%\n",
    "        tally()\n",
    "\n",
    "    precision = true_positive/(true_positive + false_positive)\n",
    "    recall = true_positive/(true_positive + false_negative)\n",
    "    FDR = 1 - precision\n",
    "    specificity = true_negative/(true_negative + false_positive)\n",
    "    \n",
    "    df_out <- data.frame(metric = c(\"precision\", \"recall\", \"FDR\", \"specificity\"),\n",
    "                values = c(precision[1,1], recall[1,1], FDR[1,1], specificity[1,1]),\n",
    "                level = rep(c(level)))\n",
    "    \n",
    "    print(paste(\"---- METRICS FOR: \", level, \" ----\"))\n",
    "    print(paste(\"precision = \", precision))\n",
    "    print(paste(\"recall = \", sensitivity))\n",
    "    print(paste(\"FDR = \", FDR))\n",
    "    print(paste(\"specificity = \", specificity))\n",
    "    print(paste(\"# true positives =\", true_positive))\n",
    "    print(paste(\"# false positives =\", false_positive))\n",
    "    print(paste(\"# true negatives =\", true_negative))\n",
    "    print(paste(\"# false negatives =\", false_negative))\n",
    "    print(\"\\n\")\n",
    "    \n",
    "    return(df_out)\n",
    "}"
   ]
  },
  {
   "cell_type": "markdown",
   "id": "497935f9",
   "metadata": {},
   "source": [
    "## Plotting Functions"
   ]
  },
  {
   "cell_type": "code",
   "execution_count": null,
   "id": "5a6767b4",
   "metadata": {},
   "outputs": [],
   "source": [
    "library(ggplot)\n",
    "theme_set(theme_bw(base_size = 12))\n",
    "palette_npg <- c(\"#E64B35\", \"#4DBBD5\", \"#00A087\", \"#3C5488\",\n",
    "                 \"#F39B7F\", \"#8491B4\", \"#91D1C2\", \"#DC0000\",\n",
    "                 \"#7E6148\", \"#B09C85\")"
   ]
  },
  {
   "cell_type": "code",
   "execution_count": null,
   "id": "11f6050a",
   "metadata": {},
   "outputs": [],
   "source": [
    "plot_corr <- function(df, title, pal){\n",
    "    \n",
    "    ggplot(df, aes(x = Kinship, y = rel, \n",
    "                       color = relationship)) +\n",
    "    geom_point(size = 2, alpha = 0.6) +\n",
    "    scale_color_manual(values = pal,\n",
    "                      name = \"Relationship\") +\n",
    "    labs(y = \"Relatedness\", title = title)\n",
    "    \n",
    "}"
   ]
  },
  {
   "cell_type": "code",
   "execution_count": null,
   "id": "10692938",
   "metadata": {},
   "outputs": [],
   "source": [
    "plot_perf <- function(df, title, pal){\n",
    "    \n",
    "    ggplot(all_eval_king11k, aes(x = level, y = values, fill = level)) +\n",
    "    geom_col(position = \"dodge\") +\n",
    "    scale_fill_manual(values = pal) +\n",
    "    facet_wrap(~metric, scales = \"free\") +\n",
    "    theme(legend.position = \"top\",\n",
    "          legend.title = element_blank(),\n",
    "          axis.text.x = element_text(angle = 45, vjust = 1, hjust = 1),\n",
    "          axis.title.y = element_blank(),\n",
    "          axis.title.x = element_blank()) +\n",
    "    labs(title = title)\n",
    "    \n",
    "}"
   ]
  }
 ],
 "metadata": {
  "kernelspec": {
   "display_name": "R",
   "language": "R",
   "name": "ir"
  },
  "language_info": {
   "codemirror_mode": "r",
   "file_extension": ".r",
   "mimetype": "text/x-r-source",
   "name": "R",
   "pygments_lexer": "r",
   "version": "3.6.3"
  }
 },
 "nbformat": 4,
 "nbformat_minor": 5
}
