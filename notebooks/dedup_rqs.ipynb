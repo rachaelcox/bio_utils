{
 "cells": [
  {
   "cell_type": "code",
   "execution_count": 1,
   "id": "81c37df5-aeee-44b8-a1b2-106165d49017",
   "metadata": {},
   "outputs": [],
   "source": [
    "import pandas as pd"
   ]
  },
  {
   "cell_type": "code",
   "execution_count": null,
   "id": "75f377a6-d7ea-442d-8a8f-cbb60eb946eb",
   "metadata": {},
   "outputs": [],
   "source": [
    "assay = 'ay72'"
   ]
  },
  {
   "cell_type": "code",
   "execution_count": 10,
   "id": "0215ea06-856f-4406-94d2-78db1bb0252b",
   "metadata": {
    "tags": []
   },
   "outputs": [
    {
     "name": "stdout",
     "output_type": "stream",
     "text": [
      "53348\n"
     ]
    }
   ],
   "source": [
    "df = pd.read_csv(f\"../maps/{assay}_rq2xe.csv\")\n",
    "print(len(df.index))"
   ]
  },
  {
   "cell_type": "code",
   "execution_count": 3,
   "id": "2b308934-569a-4de3-880d-73a4dd6eec48",
   "metadata": {
    "collapsed": true,
    "jupyter": {
     "outputs_hidden": true
    },
    "tags": []
   },
   "outputs": [
    {
     "name": "stdout",
     "output_type": "stream",
     "text": [
      "              RQ         LS         AT         XE  TRUE_PATIENT_ID\n",
      "2      RQ3179114  LS3235895  AT2411969  XE3140203        101080952\n",
      "3      RQ3128994  LS3183149  AT2382895  XE3094354        101081428\n",
      "4      RQ3181832  LS3260440  AT2434511  XE3159704        101083199\n",
      "6      RQ3183665  LS3288915  AT2440740  XE3193808         50023260\n",
      "7      RQ3186959  LS3291906  AT2440145  XE3190160        101087472\n",
      "...          ...        ...        ...        ...              ...\n",
      "53342  RQ3159699  LS3403786  AT2498648  XE3294079        101064884\n",
      "53343  RQ3159706  LS3403785  AT2498648  XE3294092        101064889\n",
      "53345  RQ2982645  LS3084531  AT2333114  XE3010186        101061436\n",
      "53346  RQ3001929  LS3168007  AT2372365  XE3082044        101065427\n",
      "53347  RQ2933752  LS3004067  AT2301016  XE2944172        101064694\n",
      "\n",
      "[35414 rows x 5 columns]\n"
     ]
    }
   ],
   "source": [
    "dups = df[df.duplicated(subset=['TRUE_PATIENT_ID'],keep=False)]\n",
    "print(dups)"
   ]
  },
  {
   "cell_type": "code",
   "execution_count": 4,
   "id": "a4fe8f0c-9d8b-4bf0-820f-8bbc4c453774",
   "metadata": {
    "tags": []
   },
   "outputs": [],
   "source": [
    "dup_idx = dups.index.tolist()"
   ]
  },
  {
   "cell_type": "code",
   "execution_count": 5,
   "id": "eb53994e-3f1d-4149-97d8-f8dacb669f58",
   "metadata": {
    "collapsed": true,
    "jupyter": {
     "outputs_hidden": true
    },
    "tags": []
   },
   "outputs": [
    {
     "name": "stdout",
     "output_type": "stream",
     "text": [
      "              RQ         LS         AT         XE  TRUE_PATIENT_ID\n",
      "0      RQ3599137  LS3734240  AT2685908  XE3614564        101607589\n",
      "1      RQ2552416  LS2852425  AT2228319  XE2820380        100542970\n",
      "5      RQ2556533  LS2795660  AT2182370  XE2736277        100684741\n",
      "11     RQ2962092  LS3028689  AT2309345  XE2962811        101092944\n",
      "22     RQ3180957  LS3250941  AT2421164  XE3157177        101082482\n",
      "...          ...        ...        ...        ...              ...\n",
      "53328  RQ3103551  LS3161125  AT2370006  XE3072478        101065940\n",
      "53335  RQ3069589  LS3126160  AT2350657  XE3046922        101058513\n",
      "53338  RQ3012493  LS3081163  AT2331701  XE3006444        101054730\n",
      "53339  RQ3159366  LS3216914  AT2406045  XE3123974        101064637\n",
      "53344  RQ2930675  LS3007966  AT2309324  XE2965097        101061430\n",
      "\n",
      "[17934 rows x 5 columns]\n"
     ]
    }
   ],
   "source": [
    "uniq = df.drop(df.index[dup_idx])\n",
    "print(uniq)"
   ]
  },
  {
   "cell_type": "code",
   "execution_count": 6,
   "id": "20cf57b7-2b0f-42dc-9d88-be39e03deb4d",
   "metadata": {
    "collapsed": true,
    "jupyter": {
     "outputs_hidden": true
    },
    "tags": []
   },
   "outputs": [
    {
     "name": "stdout",
     "output_type": "stream",
     "text": [
      "              RQ         LS         AT         XE  TRUE_PATIENT_ID\n",
      "465    RQ3765924  LS3839169  AT2728266  XE3686986            82850\n",
      "4615   RQ3383316  LS3430680  AT2511341  XE3316004           127765\n",
      "5438   RQ2892979  LS2984455  AT2279640  XE2912410           493897\n",
      "2169   RQ3583322  LS3602584  AT2605057  XE3481055           618204\n",
      "3572   RQ3135629  LS3207232  AT2397359  XE3114411           724564\n",
      "...          ...        ...        ...        ...              ...\n",
      "37388  RQ3663683  LS3755616  AT2685218  XE3614284        101605955\n",
      "27223  RQ3367757  LS3421395  AT2514197  XE3320352        101606279\n",
      "35601  RQ3037259  LS3118117  AT2350667  XE3046613        101607560\n",
      "28887  RQ3649045  LS3692502  AT2655699  XE3557405        101607639\n",
      "40407  RQ3649045  LS3665135  AT2635592  XE3532795        101607641\n",
      "\n",
      "[17306 rows x 5 columns]\n"
     ]
    }
   ],
   "source": [
    "dedups = dups.groupby(['TRUE_PATIENT_ID']).sample(1)\n",
    "print(dedups)"
   ]
  },
  {
   "cell_type": "code",
   "execution_count": 7,
   "id": "50572fe2-17e3-481d-aa41-2b04b7bf9854",
   "metadata": {},
   "outputs": [
    {
     "name": "stdout",
     "output_type": "stream",
     "text": [
      "              RQ         LS         AT         XE  TRUE_PATIENT_ID\n",
      "0      RQ3599137  LS3734240  AT2685908  XE3614564        101607589\n",
      "1      RQ2552416  LS2852425  AT2228319  XE2820380        100542970\n",
      "2      RQ2556533  LS2795660  AT2182370  XE2736277        100684741\n",
      "3      RQ2962092  LS3028689  AT2309345  XE2962811        101092944\n",
      "4      RQ3180957  LS3250941  AT2421164  XE3157177        101082482\n",
      "...          ...        ...        ...        ...              ...\n",
      "35235  RQ3663683  LS3755616  AT2685218  XE3614284        101605955\n",
      "35236  RQ3367757  LS3421395  AT2514197  XE3320352        101606279\n",
      "35237  RQ3037259  LS3118117  AT2350667  XE3046613        101607560\n",
      "35238  RQ3649045  LS3692502  AT2655699  XE3557405        101607639\n",
      "35239  RQ3649045  LS3665135  AT2635592  XE3532795        101607641\n",
      "\n",
      "[35240 rows x 5 columns]\n"
     ]
    }
   ],
   "source": [
    "final = pd.concat([uniq, dedups], ignore_index=True)\n",
    "print(final)"
   ]
  },
  {
   "cell_type": "code",
   "execution_count": 8,
   "id": "c453dec1-972a-4c66-b195-a3c3c9e8987c",
   "metadata": {},
   "outputs": [
    {
     "data": {
      "text/html": [
       "<div>\n",
       "<style scoped>\n",
       "    .dataframe tbody tr th:only-of-type {\n",
       "        vertical-align: middle;\n",
       "    }\n",
       "\n",
       "    .dataframe tbody tr th {\n",
       "        vertical-align: top;\n",
       "    }\n",
       "\n",
       "    .dataframe thead th {\n",
       "        text-align: right;\n",
       "    }\n",
       "</style>\n",
       "<table border=\"1\" class=\"dataframe\">\n",
       "  <thead>\n",
       "    <tr style=\"text-align: right;\">\n",
       "      <th></th>\n",
       "      <th>RQ</th>\n",
       "      <th>LS</th>\n",
       "      <th>AT</th>\n",
       "      <th>XE</th>\n",
       "      <th>TRUE_PATIENT_ID</th>\n",
       "    </tr>\n",
       "  </thead>\n",
       "  <tbody>\n",
       "    <tr>\n",
       "      <th>9416</th>\n",
       "      <td>RQ3659627</td>\n",
       "      <td>LS3725754</td>\n",
       "      <td>AT2666430</td>\n",
       "      <td>XE3583764</td>\n",
       "      <td>100897074</td>\n",
       "    </tr>\n",
       "    <tr>\n",
       "      <th>19871</th>\n",
       "      <td>RQ3666234</td>\n",
       "      <td>LS3734184</td>\n",
       "      <td>AT2685908</td>\n",
       "      <td>XE3614437</td>\n",
       "      <td>100897074</td>\n",
       "    </tr>\n",
       "    <tr>\n",
       "      <th>19872</th>\n",
       "      <td>RQ3666456</td>\n",
       "      <td>LS3733920</td>\n",
       "      <td>AT2673685</td>\n",
       "      <td>XE3593610</td>\n",
       "      <td>100897074</td>\n",
       "    </tr>\n",
       "    <tr>\n",
       "      <th>22679</th>\n",
       "      <td>RQ2956051</td>\n",
       "      <td>LS3019783</td>\n",
       "      <td>AT2304098</td>\n",
       "      <td>XE2952761</td>\n",
       "      <td>100897074</td>\n",
       "    </tr>\n",
       "    <tr>\n",
       "      <th>29524</th>\n",
       "      <td>RQ3631958</td>\n",
       "      <td>LS3698863</td>\n",
       "      <td>AT2653986</td>\n",
       "      <td>XE3563267</td>\n",
       "      <td>100897074</td>\n",
       "    </tr>\n",
       "    <tr>\n",
       "      <th>36341</th>\n",
       "      <td>RQ3638114</td>\n",
       "      <td>LS3678726</td>\n",
       "      <td>AT2646832</td>\n",
       "      <td>XE3545871</td>\n",
       "      <td>100897074</td>\n",
       "    </tr>\n",
       "  </tbody>\n",
       "</table>\n",
       "</div>"
      ],
      "text/plain": [
       "              RQ         LS         AT         XE  TRUE_PATIENT_ID\n",
       "9416   RQ3659627  LS3725754  AT2666430  XE3583764        100897074\n",
       "19871  RQ3666234  LS3734184  AT2685908  XE3614437        100897074\n",
       "19872  RQ3666456  LS3733920  AT2673685  XE3593610        100897074\n",
       "22679  RQ2956051  LS3019783  AT2304098  XE2952761        100897074\n",
       "29524  RQ3631958  LS3698863  AT2653986  XE3563267        100897074\n",
       "36341  RQ3638114  LS3678726  AT2646832  XE3545871        100897074"
      ]
     },
     "execution_count": 8,
     "metadata": {},
     "output_type": "execute_result"
    }
   ],
   "source": [
    "df[df['TRUE_PATIENT_ID'] == 100897074]"
   ]
  },
  {
   "cell_type": "code",
   "execution_count": 9,
   "id": "44d378c8-0eca-4a62-b1a0-ce6d0c342f06",
   "metadata": {},
   "outputs": [
    {
     "data": {
      "text/html": [
       "<div>\n",
       "<style scoped>\n",
       "    .dataframe tbody tr th:only-of-type {\n",
       "        vertical-align: middle;\n",
       "    }\n",
       "\n",
       "    .dataframe tbody tr th {\n",
       "        vertical-align: top;\n",
       "    }\n",
       "\n",
       "    .dataframe thead th {\n",
       "        text-align: right;\n",
       "    }\n",
       "</style>\n",
       "<table border=\"1\" class=\"dataframe\">\n",
       "  <thead>\n",
       "    <tr style=\"text-align: right;\">\n",
       "      <th></th>\n",
       "      <th>RQ</th>\n",
       "      <th>LS</th>\n",
       "      <th>AT</th>\n",
       "      <th>XE</th>\n",
       "      <th>TRUE_PATIENT_ID</th>\n",
       "    </tr>\n",
       "  </thead>\n",
       "  <tbody>\n",
       "    <tr>\n",
       "      <th>20206</th>\n",
       "      <td>RQ3631958</td>\n",
       "      <td>LS3698863</td>\n",
       "      <td>AT2653986</td>\n",
       "      <td>XE3563267</td>\n",
       "      <td>100897074</td>\n",
       "    </tr>\n",
       "  </tbody>\n",
       "</table>\n",
       "</div>"
      ],
      "text/plain": [
       "              RQ         LS         AT         XE  TRUE_PATIENT_ID\n",
       "20206  RQ3631958  LS3698863  AT2653986  XE3563267        100897074"
      ]
     },
     "execution_count": 9,
     "metadata": {},
     "output_type": "execute_result"
    }
   ],
   "source": [
    "final[final['TRUE_PATIENT_ID'] == 100897074]"
   ]
  },
  {
   "cell_type": "code",
   "execution_count": 15,
   "id": "faae48e2-ccd9-44b1-8264-4dec6b6c46f8",
   "metadata": {},
   "outputs": [
    {
     "data": {
      "text/plain": [
       "'maps/AY72_rq2xe'"
      ]
     },
     "execution_count": 15,
     "metadata": {},
     "output_type": "execute_result"
    }
   ],
   "source": [
    "import os\n",
    "infile = f\"maps/{assay}_rq2xe.csv\"\n",
    "os.path.splitext(infile)[0]"
   ]
  }
 ],
 "metadata": {
  "kernelspec": {
   "display_name": "Python 3 (ipykernel)",
   "language": "python",
   "name": "python3"
  },
  "language_info": {
   "codemirror_mode": {
    "name": "ipython",
    "version": 3
   },
   "file_extension": ".py",
   "mimetype": "text/x-python",
   "name": "python",
   "nbconvert_exporter": "python",
   "pygments_lexer": "ipython3",
   "version": "3.9.13"
  }
 },
 "nbformat": 4,
 "nbformat_minor": 5
}
